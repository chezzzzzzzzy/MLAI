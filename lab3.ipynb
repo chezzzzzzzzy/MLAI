{
 "cells": [
  {
   "cell_type": "markdown",
   "metadata": {},
   "source": [
    "# Neural Networks"
   ]
  },
  {
   "cell_type": "markdown",
   "metadata": {},
   "source": [
    "---\n",
    "**NOTE 1**\n",
    "\n",
    "Answer all questions within the Jupyter Notebook file of the lab.\n",
    "\n",
    "Submit your answers in BlackBoard (Assessments -> Lab Submission -> Lab 3 - Neural Networks)\n",
    "\n",
    "---"
   ]
  },
  {
   "cell_type": "markdown",
   "metadata": {},
   "source": [
    "---\n",
    "**NOTE 2**\n",
    "\n",
    "Before you begin with this lab, create a personal forlder for your files to store this lab and all subsequent labs, assignments, and projects. This folder must be located in the Documents folder named as \"admissionNumber_Name\".\n",
    "\n",
    "You can create this folder by using the GUI to navigate to the Documents folder and create the folder the same way you do in Windows or Mac.\n",
    "\n",
    "Alternatively, you can use the CLI to create the folder by executing the following command:\n",
    "`mkdir ~/Documents/12345_Asad`\n",
    "\n",
    "You should replace \"12345_Asad\" with your admission number and name.\n",
    "\n",
    "---"
   ]
  },
  {
   "cell_type": "markdown",
   "metadata": {},
   "source": [
    "## Regression"
   ]
  },
  {
   "cell_type": "markdown",
   "metadata": {},
   "source": [
    "Regression models are used to predict a real value such as weight, price, year, etc.\n",
    "\n",
    "In this section you will learn how to:\n",
    "\n",
    "* Import libraries in Python\n",
    "* Use Pandas to load a dataset\n",
    "* Use scikit-learn\n",
    "* Create a simple Regression Model for prediction"
   ]
  },
  {
   "cell_type": "markdown",
   "metadata": {},
   "source": [
    "### Linear Regression"
   ]
  },
  {
   "cell_type": "markdown",
   "metadata": {},
   "source": [
    "Linear Regression is a predictive analysis model that is used to find a relationship between independent and dependent variables. Linear Regression's principal is to fit a linear equation to the observed data.\n",
    "\n",
    "You will use Linear Regression in this section to predict life expectancy from BMI (Body Mass Index). You will start using the basic tools in Python to complete this lab.\n",
    "\n",
    "Scikit-learn is a library in Python that provides many unsupervised and supervised learning algorithms.\n",
    "\n",
    "The functionality that scikit-learn provides include:\n",
    "\n",
    "* Regression, including Linear and Logistic Regression\n",
    "* Classification, including K-Nearest Neighbors\n",
    "* Clustering, including K-Means and K-Means++\n",
    "* Model selection\n",
    "* Preprocessing, including Min-Max Normalization\n",
    "\n",
    "Look for the following models: K-Nearest Neighbor, K-Means, and Random Forest. Provide a concise description of these models. While you do not have to provide many details, try to include model description, potential applications, and pros vs cons analysis.\n",
    "\n",
    "\n",
    "To build the life expectancy predcition Linear Regression model, you will use the scikit-learn library (https://scikit-learn.org/stable/). You will import the `LinearRegression` class of scikit-learn. This class provides the function `fit()` which fits the model to the BMI data.\n",
    "\n",
    "You will use the BMI dataset from https://www.gapminder.org/data/. You can download the dataset from Blackboard (Learning Resources > Datasets > BMI Dataset).\n",
    "\n",
    "Create a new Jupyter Notebook and write the codes for this section's Linear Regression model."
   ]
  },
  {
   "cell_type": "markdown",
   "metadata": {},
   "source": [
    "#### Importing Libraries"
   ]
  },
  {
   "cell_type": "markdown",
   "metadata": {},
   "source": [
    "In Python, you can use the `import` keyword to indicate the library that you would like to use. You would need the `Pandas` library (http://pandas.pydata.org/pandas-docs/stable/) which is a useful library to load data from variety of file types. You would also need the `LinearRegression` class from scikit-learn library.\n",
    "\n",
    "The following code imports the necessary libraries."
   ]
  },
  {
   "cell_type": "markdown",
   "metadata": {},
   "source": [
    "```python\n",
    "# Note that you will use pd when calling Pandas functions \n",
    "import pandas as pd\n",
    "from sklearn.linear_model import LinearRegression\n",
    "```"
   ]
  },
  {
   "cell_type": "code",
   "execution_count": 1,
   "metadata": {},
   "outputs": [],
   "source": [
    "import pandas as pd\n",
    "from sklearn.linear_model import LinearRegression"
   ]
  },
  {
   "cell_type": "markdown",
   "metadata": {},
   "source": [
    "#### Loading Data"
   ]
  },
  {
   "cell_type": "markdown",
   "metadata": {},
   "source": [
    "You will use the `Pandas` functions to load the data that you must have already downloaded."
   ]
  },
  {
   "cell_type": "markdown",
   "metadata": {},
   "source": [
    "```python\n",
    "# the bmi_life_data will be the variable storing the dataset values\n",
    "# in python you do not need to pre-define variables or provide their datatype!\n",
    "bmi_life_data = pd.read_csv(\"bmi_and_life_expectancy.csv\")\n",
    "```"
   ]
  },
  {
   "cell_type": "code",
   "execution_count": 2,
   "metadata": {},
   "outputs": [
    {
     "data": {
      "text/html": [
       "<div>\n",
       "<style scoped>\n",
       "    .dataframe tbody tr th:only-of-type {\n",
       "        vertical-align: middle;\n",
       "    }\n",
       "\n",
       "    .dataframe tbody tr th {\n",
       "        vertical-align: top;\n",
       "    }\n",
       "\n",
       "    .dataframe thead th {\n",
       "        text-align: right;\n",
       "    }\n",
       "</style>\n",
       "<table border=\"1\" class=\"dataframe\">\n",
       "  <thead>\n",
       "    <tr style=\"text-align: right;\">\n",
       "      <th></th>\n",
       "      <th>Country</th>\n",
       "      <th>Life expectancy</th>\n",
       "      <th>BMI</th>\n",
       "    </tr>\n",
       "  </thead>\n",
       "  <tbody>\n",
       "    <tr>\n",
       "      <th>0</th>\n",
       "      <td>Afghanistan</td>\n",
       "      <td>52.8</td>\n",
       "      <td>20.62058</td>\n",
       "    </tr>\n",
       "    <tr>\n",
       "      <th>1</th>\n",
       "      <td>Albania</td>\n",
       "      <td>76.8</td>\n",
       "      <td>26.44657</td>\n",
       "    </tr>\n",
       "    <tr>\n",
       "      <th>2</th>\n",
       "      <td>Algeria</td>\n",
       "      <td>75.5</td>\n",
       "      <td>24.59620</td>\n",
       "    </tr>\n",
       "    <tr>\n",
       "      <th>3</th>\n",
       "      <td>Andorra</td>\n",
       "      <td>84.6</td>\n",
       "      <td>27.63048</td>\n",
       "    </tr>\n",
       "    <tr>\n",
       "      <th>4</th>\n",
       "      <td>Angola</td>\n",
       "      <td>56.7</td>\n",
       "      <td>22.25083</td>\n",
       "    </tr>\n",
       "  </tbody>\n",
       "</table>\n",
       "</div>"
      ],
      "text/plain": [
       "       Country  Life expectancy       BMI\n",
       "0  Afghanistan             52.8  20.62058\n",
       "1      Albania             76.8  26.44657\n",
       "2      Algeria             75.5  24.59620\n",
       "3      Andorra             84.6  27.63048\n",
       "4       Angola             56.7  22.25083"
      ]
     },
     "execution_count": 2,
     "metadata": {},
     "output_type": "execute_result"
    }
   ],
   "source": [
    "bmi_life_data = pd.read_csv(\"bmi_and_life_expectancy.csv\")\n",
    "bmi_life_data.head(5)"
   ]
  },
  {
   "cell_type": "markdown",
   "metadata": {},
   "source": [
    "#### Creating Linear Regression Model"
   ]
  },
  {
   "cell_type": "markdown",
   "metadata": {},
   "source": [
    "You will use the scikit-learn `LinearRegression` class here to create the model."
   ]
  },
  {
   "cell_type": "markdown",
   "metadata": {},
   "source": [
    "```python\n",
    "# The bmi_life_model is the object of the LinearRegression class\n",
    "bmi_life_model = LinearRegression()\n",
    "# The bmi_life_data[['BMI']] refers to the values whose column name is \"BMI\"\n",
    "x = bmi_life_data[['BMI']]\n",
    "# The bmi_life_data[['Life expectancy']] refers to the values whose column name is \"Life expectancy\"\n",
    "y = bmi_life_data[['Life expectancy']]\n",
    "bmi_life_model.fit(x, y)\n",
    "```"
   ]
  },
  {
   "cell_type": "code",
   "execution_count": 3,
   "metadata": {},
   "outputs": [
    {
     "data": {
      "text/plain": [
       "LinearRegression(copy_X=True, fit_intercept=True, n_jobs=None,\n",
       "         normalize=False)"
      ]
     },
     "execution_count": 3,
     "metadata": {},
     "output_type": "execute_result"
    }
   ],
   "source": [
    "bmi_life_model = LinearRegression()\n",
    "x = bmi_life_data[['BMI']]\n",
    "y = bmi_life_data[[\"Life expectancy\"]]\n",
    "bmi_life_model.fit(x,y)"
   ]
  },
  {
   "cell_type": "markdown",
   "metadata": {},
   "source": [
    "**Note:** In Machine Learning, it is a common practice to use `x` for input data and `y` for labels. Labels are answers to each input data point."
   ]
  },
  {
   "cell_type": "markdown",
   "metadata": {},
   "source": [
    "#### Prediction"
   ]
  },
  {
   "cell_type": "markdown",
   "metadata": {},
   "source": [
    "You will use the scikit-learn `LinearRegression` class here to predict values based on the trained model from the previous step."
   ]
  },
  {
   "cell_type": "markdown",
   "metadata": {},
   "source": [
    "```python\n",
    "# Here we are predicting the life expectancy for the BMI of 21.07931\n",
    "life_expectancy = bmi_life_model.predict([[21.07931]])\n",
    "print (\"The life expectancy when BMI is 21.07931 would be \", life_expectancy)\n",
    "```"
   ]
  },
  {
   "cell_type": "code",
   "execution_count": 4,
   "metadata": {},
   "outputs": [
    {
     "name": "stdout",
     "output_type": "stream",
     "text": [
      "The life expectancy when BMI is 21.07931 would be [[60.31564716]]\n"
     ]
    }
   ],
   "source": [
    "life_expectancy = bmi_life_model.predict([[21.07931]])\n",
    "print(\"The life expectancy when BMI is 21.07931 would be\", life_expectancy)"
   ]
  },
  {
   "cell_type": "markdown",
   "metadata": {},
   "source": [
    "What is the output? What does it mean?\n",
    "<br>\n",
    "<br>\n",
    "The life expectancy of a person with a BMI of 21.07931 would be around 60 years old"
   ]
  },
  {
   "cell_type": "markdown",
   "metadata": {},
   "source": [
    "Congratulations! You have created your first Neural Network by creating a Linear Regression Model."
   ]
  },
  {
   "cell_type": "markdown",
   "metadata": {},
   "source": [
    "## Data Exploration"
   ]
  },
  {
   "cell_type": "markdown",
   "metadata": {},
   "source": [
    "Data exploration and visualization is a very important action in Machine Learning. The first step in Machine Learning is to understand the data and explore it for creating a clear image of the type of data that you will be working to create a Neural Network for prediction and/or classification. This is also considered to be an important step in Data Analysis.\n",
    "\n",
    "In this section you will learn how to:\n",
    "* Use Pandas for data exploration\n",
    "* Analyze a dataset\n",
    "\n",
    "We will use the BMI dataset that you trained in the previous section to show some examples of `Pandas` functions for data exploration. `Pandas` is a popular Python package for data analysis and exploration in machine learning. It offers powerful, expressive, and flexible data structures that make data manipulation and analysis easy. You can read more about `Pandas` here: https://pandas.pydata.org/"
   ]
  },
  {
   "cell_type": "markdown",
   "metadata": {},
   "source": [
    "```python\n",
    "# The \"info\" element provides the contents and summary detail of the dataset\n",
    "bmi_life_data.info\n",
    "```"
   ]
  },
  {
   "cell_type": "code",
   "execution_count": 5,
   "metadata": {},
   "outputs": [
    {
     "data": {
      "text/plain": [
       "<bound method DataFrame.info of                     Country  Life expectancy       BMI\n",
       "0               Afghanistan             52.8  20.62058\n",
       "1                   Albania             76.8  26.44657\n",
       "2                   Algeria             75.5  24.59620\n",
       "3                   Andorra             84.6  27.63048\n",
       "4                    Angola             56.7  22.25083\n",
       "5                   Armenia             72.3  25.35542\n",
       "6                 Australia             81.6  27.56373\n",
       "7                   Austria             80.4  26.46741\n",
       "8                Azerbaijan             69.2  25.65117\n",
       "9                   Bahamas             72.2  27.24594\n",
       "10               Bangladesh             68.3  20.39742\n",
       "11                 Barbados             75.3  26.38439\n",
       "12                  Belarus             70.0  26.16443\n",
       "13                  Belgium             79.6  26.75915\n",
       "14                   Belize             70.7  27.02255\n",
       "15                    Benin             59.7  22.41835\n",
       "16                   Bhutan             70.7  22.82180\n",
       "17                  Bolivia             71.2  24.43335\n",
       "18   Bosnia and Herzegovina             77.5  26.61163\n",
       "19                 Botswana             53.2  22.12984\n",
       "20                   Brazil             73.2  25.78623\n",
       "21                 Bulgaria             73.2  26.54286\n",
       "22             Burkina Faso             58.0  21.27157\n",
       "23                  Burundi             59.1  21.50291\n",
       "24                 Cambodia             66.1  20.80496\n",
       "25                 Cameroon             56.6  23.68173\n",
       "26                   Canada             80.8  27.45210\n",
       "27               Cape Verde             70.4  23.51522\n",
       "28                     Chad             54.3  21.48569\n",
       "29                    Chile             78.5  27.01542\n",
       "..                      ...              ...       ...\n",
       "133                   Spain             81.1  27.49975\n",
       "134               Sri Lanka             74.0  21.96671\n",
       "135                   Sudan             65.5  22.40484\n",
       "136                Suriname             70.2  25.49887\n",
       "137               Swaziland             45.1  23.16969\n",
       "138                  Sweden             81.1  26.37629\n",
       "139             Switzerland             82.0  26.20195\n",
       "140                   Syria             76.1  26.91969\n",
       "141              Tajikistan             69.6  23.77966\n",
       "142                Tanzania             60.4  22.47792\n",
       "143                Thailand             73.9  23.00803\n",
       "144             Timor-Leste             69.9  20.59082\n",
       "145                    Togo             57.5  21.87875\n",
       "146                   Tonga             70.3  30.99563\n",
       "147     Trinidad and Tobago             71.7  26.39669\n",
       "148                 Tunisia             76.8  25.15699\n",
       "149                  Turkey             77.8  26.70371\n",
       "150            Turkmenistan             67.2  25.24796\n",
       "151                  Uganda             56.0  22.35833\n",
       "152                 Ukraine             67.8  25.42379\n",
       "153    United Arab Emirates             75.6  28.05359\n",
       "154          United Kingdom             79.7  27.39249\n",
       "155           United States             78.3  28.45698\n",
       "156                 Uruguay             76.0  26.39123\n",
       "157              Uzbekistan             69.6  25.32054\n",
       "158                 Vanuatu             63.4  26.78926\n",
       "159      West Bank and Gaza             74.1  26.57750\n",
       "160                 Vietnam             74.1  20.91630\n",
       "161                  Zambia             51.1  20.68321\n",
       "162                Zimbabwe             47.3  22.02660\n",
       "\n",
       "[163 rows x 3 columns]>"
      ]
     },
     "execution_count": 5,
     "metadata": {},
     "output_type": "execute_result"
    }
   ],
   "source": [
    "bmi_life_data.info"
   ]
  },
  {
   "cell_type": "markdown",
   "metadata": {},
   "source": [
    "What do you see in the output? How do you think it would help to better understand the dataset?\n",
    "<br>\n",
    "<br>\n",
    "The output shows the entire 163 rows and 3 columns of data from the dataset. Data is being classified in ascending alphatbetical order, this allows people to find the relevant values for a specific country easily."
   ]
  },
  {
   "cell_type": "markdown",
   "metadata": {},
   "source": [
    "```Python\n",
    "# The \"describe\" function provides details of the entire dataset\n",
    "bmi_life_data.describe()\n",
    "```"
   ]
  },
  {
   "cell_type": "code",
   "execution_count": 6,
   "metadata": {},
   "outputs": [
    {
     "data": {
      "text/html": [
       "<div>\n",
       "<style scoped>\n",
       "    .dataframe tbody tr th:only-of-type {\n",
       "        vertical-align: middle;\n",
       "    }\n",
       "\n",
       "    .dataframe tbody tr th {\n",
       "        vertical-align: top;\n",
       "    }\n",
       "\n",
       "    .dataframe thead th {\n",
       "        text-align: right;\n",
       "    }\n",
       "</style>\n",
       "<table border=\"1\" class=\"dataframe\">\n",
       "  <thead>\n",
       "    <tr style=\"text-align: right;\">\n",
       "      <th></th>\n",
       "      <th>Life expectancy</th>\n",
       "      <th>BMI</th>\n",
       "    </tr>\n",
       "  </thead>\n",
       "  <tbody>\n",
       "    <tr>\n",
       "      <th>count</th>\n",
       "      <td>163.000000</td>\n",
       "      <td>163.000000</td>\n",
       "    </tr>\n",
       "    <tr>\n",
       "      <th>mean</th>\n",
       "      <td>69.666933</td>\n",
       "      <td>24.792378</td>\n",
       "    </tr>\n",
       "    <tr>\n",
       "      <th>std</th>\n",
       "      <td>8.981933</td>\n",
       "      <td>2.427900</td>\n",
       "    </tr>\n",
       "    <tr>\n",
       "      <th>min</th>\n",
       "      <td>44.500000</td>\n",
       "      <td>19.866920</td>\n",
       "    </tr>\n",
       "    <tr>\n",
       "      <th>25%</th>\n",
       "      <td>63.450000</td>\n",
       "      <td>22.527940</td>\n",
       "    </tr>\n",
       "    <tr>\n",
       "      <th>50%</th>\n",
       "      <td>71.800000</td>\n",
       "      <td>25.320540</td>\n",
       "    </tr>\n",
       "    <tr>\n",
       "      <th>75%</th>\n",
       "      <td>76.500000</td>\n",
       "      <td>26.603960</td>\n",
       "    </tr>\n",
       "    <tr>\n",
       "      <th>max</th>\n",
       "      <td>84.600000</td>\n",
       "      <td>30.995630</td>\n",
       "    </tr>\n",
       "  </tbody>\n",
       "</table>\n",
       "</div>"
      ],
      "text/plain": [
       "       Life expectancy         BMI\n",
       "count       163.000000  163.000000\n",
       "mean         69.666933   24.792378\n",
       "std           8.981933    2.427900\n",
       "min          44.500000   19.866920\n",
       "25%          63.450000   22.527940\n",
       "50%          71.800000   25.320540\n",
       "75%          76.500000   26.603960\n",
       "max          84.600000   30.995630"
      ]
     },
     "execution_count": 6,
     "metadata": {},
     "output_type": "execute_result"
    }
   ],
   "source": [
    "bmi_life_data.describe()"
   ]
  },
  {
   "cell_type": "markdown",
   "metadata": {},
   "source": [
    "What do you see in the output? In what way(s) this information would be useful in the analysis of the dataset?\n",
    "<br>\n",
    "<br>\n",
    "The output shows some common statistical metrics that are calculated based on the given dataset. They show the spread and distribution of data and the possibiblity of outliers in the given dataset"
   ]
  },
  {
   "cell_type": "markdown",
   "metadata": {},
   "source": [
    "```Python\n",
    "# The \"columns\" element provides the list of columns titles in the dataset\n",
    "bmi_life_data.columns\n",
    "```"
   ]
  },
  {
   "cell_type": "code",
   "execution_count": 7,
   "metadata": {},
   "outputs": [
    {
     "data": {
      "text/plain": [
       "Index(['Country', 'Life expectancy', 'BMI'], dtype='object')"
      ]
     },
     "execution_count": 7,
     "metadata": {},
     "output_type": "execute_result"
    }
   ],
   "source": [
    "bmi_life_data.columns"
   ]
  },
  {
   "cell_type": "markdown",
   "metadata": {},
   "source": [
    "What do you see in the output? Would knowing this information be helpful? If yes, in what way? If no, why?\n",
    "<br>\n",
    "<br>\n",
    "The output shows the name of the columns. It will be useful for data cleaning."
   ]
  },
  {
   "cell_type": "markdown",
   "metadata": {},
   "source": [
    "```Python\n",
    "# The \"head\" function accepts a number, n, as input and prints the first n rows of the dataset\n",
    "bmi_life_data.head(5)\n",
    "```"
   ]
  },
  {
   "cell_type": "code",
   "execution_count": 8,
   "metadata": {},
   "outputs": [
    {
     "data": {
      "text/html": [
       "<div>\n",
       "<style scoped>\n",
       "    .dataframe tbody tr th:only-of-type {\n",
       "        vertical-align: middle;\n",
       "    }\n",
       "\n",
       "    .dataframe tbody tr th {\n",
       "        vertical-align: top;\n",
       "    }\n",
       "\n",
       "    .dataframe thead th {\n",
       "        text-align: right;\n",
       "    }\n",
       "</style>\n",
       "<table border=\"1\" class=\"dataframe\">\n",
       "  <thead>\n",
       "    <tr style=\"text-align: right;\">\n",
       "      <th></th>\n",
       "      <th>Country</th>\n",
       "      <th>Life expectancy</th>\n",
       "      <th>BMI</th>\n",
       "    </tr>\n",
       "  </thead>\n",
       "  <tbody>\n",
       "    <tr>\n",
       "      <th>0</th>\n",
       "      <td>Afghanistan</td>\n",
       "      <td>52.8</td>\n",
       "      <td>20.62058</td>\n",
       "    </tr>\n",
       "    <tr>\n",
       "      <th>1</th>\n",
       "      <td>Albania</td>\n",
       "      <td>76.8</td>\n",
       "      <td>26.44657</td>\n",
       "    </tr>\n",
       "    <tr>\n",
       "      <th>2</th>\n",
       "      <td>Algeria</td>\n",
       "      <td>75.5</td>\n",
       "      <td>24.59620</td>\n",
       "    </tr>\n",
       "    <tr>\n",
       "      <th>3</th>\n",
       "      <td>Andorra</td>\n",
       "      <td>84.6</td>\n",
       "      <td>27.63048</td>\n",
       "    </tr>\n",
       "    <tr>\n",
       "      <th>4</th>\n",
       "      <td>Angola</td>\n",
       "      <td>56.7</td>\n",
       "      <td>22.25083</td>\n",
       "    </tr>\n",
       "  </tbody>\n",
       "</table>\n",
       "</div>"
      ],
      "text/plain": [
       "       Country  Life expectancy       BMI\n",
       "0  Afghanistan             52.8  20.62058\n",
       "1      Albania             76.8  26.44657\n",
       "2      Algeria             75.5  24.59620\n",
       "3      Andorra             84.6  27.63048\n",
       "4       Angola             56.7  22.25083"
      ]
     },
     "execution_count": 8,
     "metadata": {},
     "output_type": "execute_result"
    }
   ],
   "source": [
    "bmi_life_data.head(5)"
   ]
  },
  {
   "cell_type": "markdown",
   "metadata": {},
   "source": [
    "How would this information be used in Data Analysis?\n",
    "<br>\n",
    "<br>\n",
    "This information would be useful for quickly testing if your object has the right type of data in it"
   ]
  },
  {
   "cell_type": "markdown",
   "metadata": {},
   "source": [
    "```Python\n",
    "# The \"sample\" function accepts a number, n, as input and prints n random rows of the dataset\n",
    "bmi_life_data.sample(3)\n",
    "```"
   ]
  },
  {
   "cell_type": "code",
   "execution_count": 9,
   "metadata": {},
   "outputs": [
    {
     "data": {
      "text/html": [
       "<div>\n",
       "<style scoped>\n",
       "    .dataframe tbody tr th:only-of-type {\n",
       "        vertical-align: middle;\n",
       "    }\n",
       "\n",
       "    .dataframe tbody tr th {\n",
       "        vertical-align: top;\n",
       "    }\n",
       "\n",
       "    .dataframe thead th {\n",
       "        text-align: right;\n",
       "    }\n",
       "</style>\n",
       "<table border=\"1\" class=\"dataframe\">\n",
       "  <thead>\n",
       "    <tr style=\"text-align: right;\">\n",
       "      <th></th>\n",
       "      <th>Country</th>\n",
       "      <th>Life expectancy</th>\n",
       "      <th>BMI</th>\n",
       "    </tr>\n",
       "  </thead>\n",
       "  <tbody>\n",
       "    <tr>\n",
       "      <th>161</th>\n",
       "      <td>Zambia</td>\n",
       "      <td>51.1</td>\n",
       "      <td>20.68321</td>\n",
       "    </tr>\n",
       "    <tr>\n",
       "      <th>139</th>\n",
       "      <td>Switzerland</td>\n",
       "      <td>82.0</td>\n",
       "      <td>26.20195</td>\n",
       "    </tr>\n",
       "    <tr>\n",
       "      <th>9</th>\n",
       "      <td>Bahamas</td>\n",
       "      <td>72.2</td>\n",
       "      <td>27.24594</td>\n",
       "    </tr>\n",
       "  </tbody>\n",
       "</table>\n",
       "</div>"
      ],
      "text/plain": [
       "         Country  Life expectancy       BMI\n",
       "161       Zambia             51.1  20.68321\n",
       "139  Switzerland             82.0  26.20195\n",
       "9        Bahamas             72.2  27.24594"
      ]
     },
     "execution_count": 9,
     "metadata": {},
     "output_type": "execute_result"
    }
   ],
   "source": [
    "bmi_life_data.sample(3)"
   ]
  },
  {
   "cell_type": "markdown",
   "metadata": {},
   "source": [
    "In what way can the `sample` function be compared to the `head` function?\n",
    "<br>\n",
    "<br>\n",
    "The output from the sample function is randomized and dependent on the number of data one would like to see as compared to the head function where it displays the data chronologically "
   ]
  },
  {
   "cell_type": "markdown",
   "metadata": {},
   "source": [
    "```Python\n",
    "# The \"isnull\" function determines whether a datapoint is null or not.\n",
    "pd.isnull(bmi_life_data)\n",
    "```"
   ]
  },
  {
   "cell_type": "code",
   "execution_count": 10,
   "metadata": {},
   "outputs": [
    {
     "data": {
      "text/html": [
       "<div>\n",
       "<style scoped>\n",
       "    .dataframe tbody tr th:only-of-type {\n",
       "        vertical-align: middle;\n",
       "    }\n",
       "\n",
       "    .dataframe tbody tr th {\n",
       "        vertical-align: top;\n",
       "    }\n",
       "\n",
       "    .dataframe thead th {\n",
       "        text-align: right;\n",
       "    }\n",
       "</style>\n",
       "<table border=\"1\" class=\"dataframe\">\n",
       "  <thead>\n",
       "    <tr style=\"text-align: right;\">\n",
       "      <th></th>\n",
       "      <th>Country</th>\n",
       "      <th>Life expectancy</th>\n",
       "      <th>BMI</th>\n",
       "    </tr>\n",
       "  </thead>\n",
       "  <tbody>\n",
       "    <tr>\n",
       "      <th>0</th>\n",
       "      <td>False</td>\n",
       "      <td>False</td>\n",
       "      <td>False</td>\n",
       "    </tr>\n",
       "    <tr>\n",
       "      <th>1</th>\n",
       "      <td>False</td>\n",
       "      <td>False</td>\n",
       "      <td>False</td>\n",
       "    </tr>\n",
       "    <tr>\n",
       "      <th>2</th>\n",
       "      <td>False</td>\n",
       "      <td>False</td>\n",
       "      <td>False</td>\n",
       "    </tr>\n",
       "    <tr>\n",
       "      <th>3</th>\n",
       "      <td>False</td>\n",
       "      <td>False</td>\n",
       "      <td>False</td>\n",
       "    </tr>\n",
       "    <tr>\n",
       "      <th>4</th>\n",
       "      <td>False</td>\n",
       "      <td>False</td>\n",
       "      <td>False</td>\n",
       "    </tr>\n",
       "    <tr>\n",
       "      <th>5</th>\n",
       "      <td>False</td>\n",
       "      <td>False</td>\n",
       "      <td>False</td>\n",
       "    </tr>\n",
       "    <tr>\n",
       "      <th>6</th>\n",
       "      <td>False</td>\n",
       "      <td>False</td>\n",
       "      <td>False</td>\n",
       "    </tr>\n",
       "    <tr>\n",
       "      <th>7</th>\n",
       "      <td>False</td>\n",
       "      <td>False</td>\n",
       "      <td>False</td>\n",
       "    </tr>\n",
       "    <tr>\n",
       "      <th>8</th>\n",
       "      <td>False</td>\n",
       "      <td>False</td>\n",
       "      <td>False</td>\n",
       "    </tr>\n",
       "    <tr>\n",
       "      <th>9</th>\n",
       "      <td>False</td>\n",
       "      <td>False</td>\n",
       "      <td>False</td>\n",
       "    </tr>\n",
       "    <tr>\n",
       "      <th>10</th>\n",
       "      <td>False</td>\n",
       "      <td>False</td>\n",
       "      <td>False</td>\n",
       "    </tr>\n",
       "    <tr>\n",
       "      <th>11</th>\n",
       "      <td>False</td>\n",
       "      <td>False</td>\n",
       "      <td>False</td>\n",
       "    </tr>\n",
       "    <tr>\n",
       "      <th>12</th>\n",
       "      <td>False</td>\n",
       "      <td>False</td>\n",
       "      <td>False</td>\n",
       "    </tr>\n",
       "    <tr>\n",
       "      <th>13</th>\n",
       "      <td>False</td>\n",
       "      <td>False</td>\n",
       "      <td>False</td>\n",
       "    </tr>\n",
       "    <tr>\n",
       "      <th>14</th>\n",
       "      <td>False</td>\n",
       "      <td>False</td>\n",
       "      <td>False</td>\n",
       "    </tr>\n",
       "    <tr>\n",
       "      <th>15</th>\n",
       "      <td>False</td>\n",
       "      <td>False</td>\n",
       "      <td>False</td>\n",
       "    </tr>\n",
       "    <tr>\n",
       "      <th>16</th>\n",
       "      <td>False</td>\n",
       "      <td>False</td>\n",
       "      <td>False</td>\n",
       "    </tr>\n",
       "    <tr>\n",
       "      <th>17</th>\n",
       "      <td>False</td>\n",
       "      <td>False</td>\n",
       "      <td>False</td>\n",
       "    </tr>\n",
       "    <tr>\n",
       "      <th>18</th>\n",
       "      <td>False</td>\n",
       "      <td>False</td>\n",
       "      <td>False</td>\n",
       "    </tr>\n",
       "    <tr>\n",
       "      <th>19</th>\n",
       "      <td>False</td>\n",
       "      <td>False</td>\n",
       "      <td>False</td>\n",
       "    </tr>\n",
       "    <tr>\n",
       "      <th>20</th>\n",
       "      <td>False</td>\n",
       "      <td>False</td>\n",
       "      <td>False</td>\n",
       "    </tr>\n",
       "    <tr>\n",
       "      <th>21</th>\n",
       "      <td>False</td>\n",
       "      <td>False</td>\n",
       "      <td>False</td>\n",
       "    </tr>\n",
       "    <tr>\n",
       "      <th>22</th>\n",
       "      <td>False</td>\n",
       "      <td>False</td>\n",
       "      <td>False</td>\n",
       "    </tr>\n",
       "    <tr>\n",
       "      <th>23</th>\n",
       "      <td>False</td>\n",
       "      <td>False</td>\n",
       "      <td>False</td>\n",
       "    </tr>\n",
       "    <tr>\n",
       "      <th>24</th>\n",
       "      <td>False</td>\n",
       "      <td>False</td>\n",
       "      <td>False</td>\n",
       "    </tr>\n",
       "    <tr>\n",
       "      <th>25</th>\n",
       "      <td>False</td>\n",
       "      <td>False</td>\n",
       "      <td>False</td>\n",
       "    </tr>\n",
       "    <tr>\n",
       "      <th>26</th>\n",
       "      <td>False</td>\n",
       "      <td>False</td>\n",
       "      <td>False</td>\n",
       "    </tr>\n",
       "    <tr>\n",
       "      <th>27</th>\n",
       "      <td>False</td>\n",
       "      <td>False</td>\n",
       "      <td>False</td>\n",
       "    </tr>\n",
       "    <tr>\n",
       "      <th>28</th>\n",
       "      <td>False</td>\n",
       "      <td>False</td>\n",
       "      <td>False</td>\n",
       "    </tr>\n",
       "    <tr>\n",
       "      <th>29</th>\n",
       "      <td>False</td>\n",
       "      <td>False</td>\n",
       "      <td>False</td>\n",
       "    </tr>\n",
       "    <tr>\n",
       "      <th>...</th>\n",
       "      <td>...</td>\n",
       "      <td>...</td>\n",
       "      <td>...</td>\n",
       "    </tr>\n",
       "    <tr>\n",
       "      <th>133</th>\n",
       "      <td>False</td>\n",
       "      <td>False</td>\n",
       "      <td>False</td>\n",
       "    </tr>\n",
       "    <tr>\n",
       "      <th>134</th>\n",
       "      <td>False</td>\n",
       "      <td>False</td>\n",
       "      <td>False</td>\n",
       "    </tr>\n",
       "    <tr>\n",
       "      <th>135</th>\n",
       "      <td>False</td>\n",
       "      <td>False</td>\n",
       "      <td>False</td>\n",
       "    </tr>\n",
       "    <tr>\n",
       "      <th>136</th>\n",
       "      <td>False</td>\n",
       "      <td>False</td>\n",
       "      <td>False</td>\n",
       "    </tr>\n",
       "    <tr>\n",
       "      <th>137</th>\n",
       "      <td>False</td>\n",
       "      <td>False</td>\n",
       "      <td>False</td>\n",
       "    </tr>\n",
       "    <tr>\n",
       "      <th>138</th>\n",
       "      <td>False</td>\n",
       "      <td>False</td>\n",
       "      <td>False</td>\n",
       "    </tr>\n",
       "    <tr>\n",
       "      <th>139</th>\n",
       "      <td>False</td>\n",
       "      <td>False</td>\n",
       "      <td>False</td>\n",
       "    </tr>\n",
       "    <tr>\n",
       "      <th>140</th>\n",
       "      <td>False</td>\n",
       "      <td>False</td>\n",
       "      <td>False</td>\n",
       "    </tr>\n",
       "    <tr>\n",
       "      <th>141</th>\n",
       "      <td>False</td>\n",
       "      <td>False</td>\n",
       "      <td>False</td>\n",
       "    </tr>\n",
       "    <tr>\n",
       "      <th>142</th>\n",
       "      <td>False</td>\n",
       "      <td>False</td>\n",
       "      <td>False</td>\n",
       "    </tr>\n",
       "    <tr>\n",
       "      <th>143</th>\n",
       "      <td>False</td>\n",
       "      <td>False</td>\n",
       "      <td>False</td>\n",
       "    </tr>\n",
       "    <tr>\n",
       "      <th>144</th>\n",
       "      <td>False</td>\n",
       "      <td>False</td>\n",
       "      <td>False</td>\n",
       "    </tr>\n",
       "    <tr>\n",
       "      <th>145</th>\n",
       "      <td>False</td>\n",
       "      <td>False</td>\n",
       "      <td>False</td>\n",
       "    </tr>\n",
       "    <tr>\n",
       "      <th>146</th>\n",
       "      <td>False</td>\n",
       "      <td>False</td>\n",
       "      <td>False</td>\n",
       "    </tr>\n",
       "    <tr>\n",
       "      <th>147</th>\n",
       "      <td>False</td>\n",
       "      <td>False</td>\n",
       "      <td>False</td>\n",
       "    </tr>\n",
       "    <tr>\n",
       "      <th>148</th>\n",
       "      <td>False</td>\n",
       "      <td>False</td>\n",
       "      <td>False</td>\n",
       "    </tr>\n",
       "    <tr>\n",
       "      <th>149</th>\n",
       "      <td>False</td>\n",
       "      <td>False</td>\n",
       "      <td>False</td>\n",
       "    </tr>\n",
       "    <tr>\n",
       "      <th>150</th>\n",
       "      <td>False</td>\n",
       "      <td>False</td>\n",
       "      <td>False</td>\n",
       "    </tr>\n",
       "    <tr>\n",
       "      <th>151</th>\n",
       "      <td>False</td>\n",
       "      <td>False</td>\n",
       "      <td>False</td>\n",
       "    </tr>\n",
       "    <tr>\n",
       "      <th>152</th>\n",
       "      <td>False</td>\n",
       "      <td>False</td>\n",
       "      <td>False</td>\n",
       "    </tr>\n",
       "    <tr>\n",
       "      <th>153</th>\n",
       "      <td>False</td>\n",
       "      <td>False</td>\n",
       "      <td>False</td>\n",
       "    </tr>\n",
       "    <tr>\n",
       "      <th>154</th>\n",
       "      <td>False</td>\n",
       "      <td>False</td>\n",
       "      <td>False</td>\n",
       "    </tr>\n",
       "    <tr>\n",
       "      <th>155</th>\n",
       "      <td>False</td>\n",
       "      <td>False</td>\n",
       "      <td>False</td>\n",
       "    </tr>\n",
       "    <tr>\n",
       "      <th>156</th>\n",
       "      <td>False</td>\n",
       "      <td>False</td>\n",
       "      <td>False</td>\n",
       "    </tr>\n",
       "    <tr>\n",
       "      <th>157</th>\n",
       "      <td>False</td>\n",
       "      <td>False</td>\n",
       "      <td>False</td>\n",
       "    </tr>\n",
       "    <tr>\n",
       "      <th>158</th>\n",
       "      <td>False</td>\n",
       "      <td>False</td>\n",
       "      <td>False</td>\n",
       "    </tr>\n",
       "    <tr>\n",
       "      <th>159</th>\n",
       "      <td>False</td>\n",
       "      <td>False</td>\n",
       "      <td>False</td>\n",
       "    </tr>\n",
       "    <tr>\n",
       "      <th>160</th>\n",
       "      <td>False</td>\n",
       "      <td>False</td>\n",
       "      <td>False</td>\n",
       "    </tr>\n",
       "    <tr>\n",
       "      <th>161</th>\n",
       "      <td>False</td>\n",
       "      <td>False</td>\n",
       "      <td>False</td>\n",
       "    </tr>\n",
       "    <tr>\n",
       "      <th>162</th>\n",
       "      <td>False</td>\n",
       "      <td>False</td>\n",
       "      <td>False</td>\n",
       "    </tr>\n",
       "  </tbody>\n",
       "</table>\n",
       "<p>163 rows × 3 columns</p>\n",
       "</div>"
      ],
      "text/plain": [
       "     Country  Life expectancy    BMI\n",
       "0      False            False  False\n",
       "1      False            False  False\n",
       "2      False            False  False\n",
       "3      False            False  False\n",
       "4      False            False  False\n",
       "5      False            False  False\n",
       "6      False            False  False\n",
       "7      False            False  False\n",
       "8      False            False  False\n",
       "9      False            False  False\n",
       "10     False            False  False\n",
       "11     False            False  False\n",
       "12     False            False  False\n",
       "13     False            False  False\n",
       "14     False            False  False\n",
       "15     False            False  False\n",
       "16     False            False  False\n",
       "17     False            False  False\n",
       "18     False            False  False\n",
       "19     False            False  False\n",
       "20     False            False  False\n",
       "21     False            False  False\n",
       "22     False            False  False\n",
       "23     False            False  False\n",
       "24     False            False  False\n",
       "25     False            False  False\n",
       "26     False            False  False\n",
       "27     False            False  False\n",
       "28     False            False  False\n",
       "29     False            False  False\n",
       "..       ...              ...    ...\n",
       "133    False            False  False\n",
       "134    False            False  False\n",
       "135    False            False  False\n",
       "136    False            False  False\n",
       "137    False            False  False\n",
       "138    False            False  False\n",
       "139    False            False  False\n",
       "140    False            False  False\n",
       "141    False            False  False\n",
       "142    False            False  False\n",
       "143    False            False  False\n",
       "144    False            False  False\n",
       "145    False            False  False\n",
       "146    False            False  False\n",
       "147    False            False  False\n",
       "148    False            False  False\n",
       "149    False            False  False\n",
       "150    False            False  False\n",
       "151    False            False  False\n",
       "152    False            False  False\n",
       "153    False            False  False\n",
       "154    False            False  False\n",
       "155    False            False  False\n",
       "156    False            False  False\n",
       "157    False            False  False\n",
       "158    False            False  False\n",
       "159    False            False  False\n",
       "160    False            False  False\n",
       "161    False            False  False\n",
       "162    False            False  False\n",
       "\n",
       "[163 rows x 3 columns]"
      ]
     },
     "execution_count": 10,
     "metadata": {},
     "output_type": "execute_result"
    }
   ],
   "source": [
    "pd.isnull(bmi_life_data)"
   ]
  },
  {
   "cell_type": "markdown",
   "metadata": {},
   "source": [
    "What do you see in the output? Why do you think a null datapoint is damaging for the Neural Network?\n",
    "<br>\n",
    "<br>\n",
    "Output shows false for all cells in the dataset. This means that there is not a single cell in the dataset that does not contain a value. A null datapoint can be significant enough to cause misintepretation, thus affecting our evaluation process in the later part"
   ]
  },
  {
   "cell_type": "markdown",
   "metadata": {},
   "source": [
    "Now try to run the following code:\n",
    "\n",
    "```Python\n",
    "pd.isnull(bmi_life_data).sum()\n",
    "```"
   ]
  },
  {
   "cell_type": "code",
   "execution_count": 11,
   "metadata": {},
   "outputs": [
    {
     "data": {
      "text/plain": [
       "Country            0\n",
       "Life expectancy    0\n",
       "BMI                0\n",
       "dtype: int64"
      ]
     },
     "execution_count": 11,
     "metadata": {},
     "output_type": "execute_result"
    }
   ],
   "source": [
    "pd.isnull(bmi_life_data).sum()"
   ]
  },
  {
   "cell_type": "markdown",
   "metadata": {},
   "source": [
    "What difference do you as compared to the previous line of code? What is the benefit of using the `sum()` function?\n",
    "<br>\n",
    "<br>\n",
    "This line of code gives a summary of the number of null values present in the dataset. It it beneficial as one would not need to tabulate the number of null values found in the dataset, which is a waste of time and being inefficient"
   ]
  },
  {
   "cell_type": "markdown",
   "metadata": {},
   "source": [
    "## Classification"
   ]
  },
  {
   "cell_type": "markdown",
   "metadata": {},
   "source": [
    "Classification models are used to predict categories such as \"good or bad\", \"high or low\", \"red or blue\".\n",
    "\n",
    "Similar to the Regression model, you can implement a Logistic Regression model to classify an iris type. In this example we will use a `scikit-learn` available dataset for iris types."
   ]
  },
  {
   "cell_type": "markdown",
   "metadata": {},
   "source": [
    "```Python\n",
    "from sklearn import datasets\n",
    "from sklearn import metrics\n",
    "from sklearn.linear_model import LogisticRegression\n",
    "\n",
    "# this line loads the scikit-learn iris dataset\n",
    "dataset = datasets.load_iris()\n",
    "\n",
    "x = dataset.data\n",
    "y = dataset.target\n",
    "\n",
    "model = LogisticRegression()\n",
    "model.fit(x, y)\n",
    "\n",
    "print(model)\n",
    "\n",
    "predicted = model.predict(x)\n",
    "\n",
    "print(predicted)\n",
    "```"
   ]
  },
  {
   "cell_type": "code",
   "execution_count": 12,
   "metadata": {},
   "outputs": [
    {
     "name": "stdout",
     "output_type": "stream",
     "text": [
      "LogisticRegression(C=1.0, class_weight=None, dual=False, fit_intercept=True,\n",
      "          intercept_scaling=1, max_iter=100, multi_class='warn',\n",
      "          n_jobs=None, penalty='l2', random_state=None, solver='warn',\n",
      "          tol=0.0001, verbose=0, warm_start=False)\n",
      "[0 0 0 0 0 0 0 0 0 0 0 0 0 0 0 0 0 0 0 0 0 0 0 0 0 0 0 0 0 0 0 0 0 0 0 0 0\n",
      " 0 0 0 0 0 0 0 0 0 0 0 0 0 1 1 1 1 1 1 1 1 1 1 1 1 1 1 1 1 2 1 1 1 2 1 1 1\n",
      " 1 1 1 1 1 1 1 1 1 2 2 2 1 1 1 1 1 1 1 1 1 1 1 1 1 1 2 2 2 2 2 2 2 2 2 2 2\n",
      " 2 2 2 2 2 2 2 2 2 2 2 2 2 2 2 2 2 2 1 2 2 2 2 2 2 2 2 2 2 2 2 2 2 2 2 2 2\n",
      " 2 2]\n"
     ]
    },
    {
     "name": "stderr",
     "output_type": "stream",
     "text": [
      "/anaconda3/lib/python3.7/site-packages/sklearn/linear_model/logistic.py:433: FutureWarning: Default solver will be changed to 'lbfgs' in 0.22. Specify a solver to silence this warning.\n",
      "  FutureWarning)\n",
      "/anaconda3/lib/python3.7/site-packages/sklearn/linear_model/logistic.py:460: FutureWarning: Default multi_class will be changed to 'auto' in 0.22. Specify the multi_class option to silence this warning.\n",
      "  \"this warning.\", FutureWarning)\n"
     ]
    }
   ],
   "source": [
    "from sklearn import datasets\n",
    "from sklearn import metrics\n",
    "from sklearn.linear_model import LogisticRegression\n",
    "\n",
    "\n",
    "# this line loads the scikit-learn iris dataset\n",
    "dataset = datasets.load_iris()\n",
    "\n",
    "x = dataset.data\n",
    "y = dataset.target\n",
    "\n",
    "model = LogisticRegression()\n",
    "model.fit(x, y)\n",
    "\n",
    "print(model)\n",
    "\n",
    "predicted = model.predict(x)\n",
    "\n",
    "print(predicted)\n"
   ]
  },
  {
   "cell_type": "markdown",
   "metadata": {},
   "source": [
    "What is the output? Elaborate on what `print(predicted)` has printed.\n",
    "\n",
    "<br>\n",
    "<br>\n",
    "The output shows the parameters of the LogisticRegression function. print(predicted) prints the values of y that corresponds to the values of x"
   ]
  },
  {
   "cell_type": "markdown",
   "metadata": {},
   "source": [
    "## Model Evaluation"
   ]
  },
  {
   "cell_type": "markdown",
   "metadata": {},
   "source": [
    "In this section you will learn how to:\n",
    "* Split a dataset into test/train/validation datasets\n",
    "* Evaluate a trained model\n",
    "\n",
    "Model Evaluation is an essential part of Machine Learning. It provides a comprehensive overview of how the trained model has performed. The dataset used to train the neural network should not be used for evaluation. Evaluation must be performed against a dataset that the model has not seen! Thereby, we will have to split our dataset into a set to be used for training and another set for testing (evaluation). As such, we will split the original dataset into **train** dataset and **test** dataset.\n",
    "\n",
    "There is one more dataset to be genereted which we call **validation** dataset. The validation dataset is used to evaluate the performance of the model during the training process. This dataset is majorly used in Deep Learning and is an essential part of the training process that the model uses to improve itself and increase its accuracy.\n",
    "\n",
    "In summary, most large datasets are randomly divided into the following datasets prior to initializing the training process:\n",
    "* **Train Dataset**: It is a subset of the original dataset that is used to train the neural network model.\n",
    "* **Test Dataset**:  It is a subset of the original dataset that is hidden to the model. It is used to evaluate the trained neural network.\n",
    "* **Validation Dataset**: It is a subset of the original dataset that is used to assess the performance of model during the training process. It acts as a test platform to fine tuning model's performance. While the _train_ and _test_ datasets are commonly for all Machine Learning models, the _validation_ dataset is mainly used for Deep Learning models and models with reletaively large amount of data.\n"
   ]
  },
  {
   "cell_type": "markdown",
   "metadata": {},
   "source": [
    "There are different metrics that can be used to evaluate neural network models. The common metrics are as below:\n",
    "* Accuracy\n",
    "* Area Under Curve (AUC)\n",
    "* Logarithmic Loss\n",
    "* Confusion Matrix\n",
    "* F1 Score\n",
    "* Mean Absolute Error (MAE)\n",
    "* Mean Squared Error (MSE)\n",
    "\n",
    "Read more about these metrics here: https://machinelearningmastery.com/metrics-evaluate-machine-learning-algorithms-python/"
   ]
  },
  {
   "cell_type": "markdown",
   "metadata": {},
   "source": [
    "**K-Fold** is a function provided by `scikit-learn` which spilts the dataset into groups of `train` and `test` sets."
   ]
  },
  {
   "cell_type": "markdown",
   "metadata": {},
   "source": [
    "Here is a simple example for evaluating the classification model that you trained in the previous section:"
   ]
  },
  {
   "cell_type": "markdown",
   "metadata": {},
   "source": [
    "```Python\n",
    "from sklearn.model_selection import KFold\n",
    "from sklearn import model_selection\n",
    "\n",
    "# n_splits determines how many groups of test/train sets you want KFold to create\n",
    "kfold = KFold(n_splits=2)\n",
    "# the original dataset x is divided into n_splits groups of test/train sets\n",
    "kfold.get_n_splits(x)\n",
    "print(kfold)\n",
    "\n",
    "# here we choose our evaluation metrics\n",
    "scoring = 'accuracy'\n",
    "results = model_selection.cross_val_score(model, x, y, cv=kfold, scoring=scoring)\n",
    "print(results.mean())\n",
    "```"
   ]
  },
  {
   "cell_type": "code",
   "execution_count": 32,
   "metadata": {},
   "outputs": [
    {
     "name": "stdout",
     "output_type": "stream",
     "text": [
      "KFold(n_splits=2, random_state=None, shuffle=False)\n",
      "0.9952000000000001\n"
     ]
    },
    {
     "name": "stderr",
     "output_type": "stream",
     "text": [
      "/anaconda3/lib/python3.7/site-packages/sklearn/linear_model/logistic.py:433: FutureWarning: Default solver will be changed to 'lbfgs' in 0.22. Specify a solver to silence this warning.\n",
      "  FutureWarning)\n",
      "/anaconda3/lib/python3.7/site-packages/sklearn/linear_model/logistic.py:433: FutureWarning: Default solver will be changed to 'lbfgs' in 0.22. Specify a solver to silence this warning.\n",
      "  FutureWarning)\n"
     ]
    }
   ],
   "source": [
    "from sklearn.model_selection import KFold\n",
    "from sklearn.metrics import confusion_matrix, classification_report\n",
    "from sklearn import model_selection\n",
    "\n",
    "# n_splits determines how many groups of test/train sets you want KFold to create\n",
    "kfold = KFold(n_splits=2)\n",
    "# the original dataset x is divided into n_splits groups of test/train sets\n",
    "kfold.get_n_splits(x)\n",
    "print(kfold)\n",
    "\n",
    "# here we choose our evaluation metrics\n",
    "# scoring = 'accuracy'\n",
    "scoring = 'roc_auc'\n",
    "# scoring = 'neg_log_loss'\n",
    "# scoring = 'neg_mean_absolute_error'\n",
    "# scoring = 'neg_mean_squared_error'\n",
    "\n",
    "\n",
    "# matrix = confusion_matrix(y_data, predicted)\n",
    "# report = classification_report(y_data, predicted)\n",
    "\n",
    "results = model_selection.cross_val_score(model, x, y, cv=kfold, scoring=scoring)\n",
    "\n",
    "print(results.mean())"
   ]
  },
  {
   "cell_type": "markdown",
   "metadata": {},
   "source": [
    "What is the accuracy of the model? What does it say about the model?\n",
    "<br>\n",
    "<br>\n",
    "The model is not really accurate. "
   ]
  },
  {
   "cell_type": "markdown",
   "metadata": {},
   "source": [
    "Change the `n_splits` value in the code. What happens when you increase it? What happens when you set it to `1`?\n",
    "\n",
    "As the value of `n_splits` increases, the value of kfold increases as well. When the value of n_splits is set to 1, an error occurs"
   ]
  },
  {
   "cell_type": "markdown",
   "metadata": {},
   "source": [
    "**Exercise:** Try using other evaluation metrics and record your observation.\n",
    "\n",
    "-0.778 for log loss,\n",
    "-0.693 for MAE and MSE, \n",
    "0.995 for AUC\n",
    "\n"
   ]
  },
  {
   "cell_type": "markdown",
   "metadata": {},
   "source": [
    "***"
   ]
  },
  {
   "cell_type": "markdown",
   "metadata": {},
   "source": [
    "<font size=\"2\"><center><i>Version 1.1 | May 2019 | Asadollah Norouzi | School of Electrical & Electronic Engineering</i></center></font>"
   ]
  }
 ],
 "metadata": {
  "CodeCell": {
   "cm_config": {
    "lineWrapping": true
   }
  },
  "MarkdownCell": {
   "cm_config": {
    "lineWrapping": true
   }
  },
  "kernelspec": {
   "display_name": "Python 3",
   "language": "python",
   "name": "python3"
  },
  "language_info": {
   "codemirror_mode": {
    "name": "ipython",
    "version": 3
   },
   "file_extension": ".py",
   "mimetype": "text/x-python",
   "name": "python",
   "nbconvert_exporter": "python",
   "pygments_lexer": "ipython3",
   "version": "3.7.3"
  },
  "latex_metadata": {
   "affiliation": "Stanford University",
   "author": "M H Goerz",
   "bib": "notebook.bib",
   "date": "",
   "title": "An example notebook"
  }
 },
 "nbformat": 4,
 "nbformat_minor": 2
}
