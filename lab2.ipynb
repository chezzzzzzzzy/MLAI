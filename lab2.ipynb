{
 "cells": [
  {
   "cell_type": "markdown",
   "metadata": {},
   "source": [
    "# Anaconda"
   ]
  },
  {
   "cell_type": "markdown",
   "metadata": {},
   "source": [
    "Anaconda is a package and environment manager built specifically for data. It is an open source distribution for Python designed for large-scale data. Package management is simplified with Anaconda."
   ]
  },
  {
   "cell_type": "markdown",
   "metadata": {},
   "source": [
    "In this section, you will learn how to:\n",
    "\n",
    "* install Anaconda using Linux CLI (Command Line Interface).\n",
    "\n",
    "* install and manage packages in Anaconda.\n",
    "\n",
    "* create and use virtual environments in Anaconda."
   ]
  },
  {
   "cell_type": "markdown",
   "metadata": {},
   "source": [
    "## Installation"
   ]
  },
  {
   "cell_type": "markdown",
   "metadata": {},
   "source": [
    "\n",
    "The following 5 steps guide you through the Anaconda installation process:  \n",
    "<br>\n"
   ]
  },
  {
   "cell_type": "markdown",
   "metadata": {},
   "source": [
    "Step 1: Open a terminal as shown in the below snapshot.\n",
    "$$~$$\n",
    "![](terminal.png)\n",
    "$$~$$"
   ]
  },
  {
   "cell_type": "markdown",
   "metadata": {},
   "source": [
    "<a id='step2'></a>\n",
    "Step 2: Download the installation file from [Anaconda's website](http://www.anaconda.com) by typing the following command in the terminal:\n",
    "\n",
    "`wget https://repo.anaconda.com/archive/Anaconda3-2018.12-Linux-x86_64.sh`\n",
    "$$~$$\n",
    "![](wget.png)"
   ]
  },
  {
   "cell_type": "markdown",
   "metadata": {},
   "source": [
    "_**NOTE: Check Anaconda's [download page](https://www.anaconda.com/distribution/) and copy the latest version link to download. The above link is the latest version as of January 2019.**_\n",
    "$$~$$"
   ]
  },
  {
   "cell_type": "markdown",
   "metadata": {},
   "source": [
    "Step 3: Make the downloaded installation file executable by typing the following command in the terminal:\n",
    "\n",
    "`chmod a+x Anaconda3-2018.12-Linux-x86_64.sh`\n",
    "$$~$$\n",
    "![](chmod.png)"
   ]
  },
  {
   "cell_type": "markdown",
   "metadata": {},
   "source": [
    "_**NOTE: Replace the filename above with the one you have downloaded in [Step 2](#step2) (if different).**_\n",
    "$$~$$"
   ]
  },
  {
   "cell_type": "markdown",
   "metadata": {},
   "source": [
    "Step 4: Confirm your installation by checking the installed packages. Type the following command in the terminal:\n",
    "`conda list`\n",
    "$$~$$\n",
    "The output should be similar to the image below.\n",
    "$$~$$\n",
    "![](conda_list.png)\n",
    "$$~$$"
   ]
  },
  {
   "cell_type": "markdown",
   "metadata": {},
   "source": [
    "Browse through the packages that have been printed on your terminal and answer the following questions:\n",
    "1. Is `python` installed? If yes, what version of `python` is installed?\n",
    "2. Is `numpy` installed? If yes, what version of `numpy` is installed?"
   ]
  },
  {
   "cell_type": "markdown",
   "metadata": {},
   "source": [
    "Step 5: It is recommended that you update the Anaconda package. Type the following two commands in the terminal: \n",
    "\n",
    "`conda upgrade conda`\n",
    "\n",
    "`conda upgrade --all`\n",
    "$$~$$\n",
    "![](conda_upgrade.png)"
   ]
  },
  {
   "cell_type": "markdown",
   "metadata": {},
   "source": [
    "Why is it recommended to run an update process?\n",
    "$$~$$\n",
    "$$~$$\n",
    "$$~$$"
   ]
  },
  {
   "cell_type": "markdown",
   "metadata": {},
   "source": [
    "## Package Management"
   ]
  },
  {
   "cell_type": "markdown",
   "metadata": {},
   "source": [
    "In this section, you will learn the basics of managing packages in Anaconda. Managing package is fairly straightforward."
   ]
  },
  {
   "cell_type": "markdown",
   "metadata": {},
   "source": [
    "The following command template is used to install a package:\n",
    "`conda install package_name`\n",
    "\n",
    "For example,to install the **numpy** package, type the following command in the terminal:\n",
    "`conda install numpy`"
   ]
  },
  {
   "cell_type": "markdown",
   "metadata": {},
   "source": [
    "Multiple packages can be installed through just one command line. Here is the template: `conda installa package_1 package_2 package_3 ...`"
   ]
  },
  {
   "cell_type": "markdown",
   "metadata": {},
   "source": [
    "There will be circumstances where you must install a specific version of a package! Anaconda provides such flexibility by allowing you to choose your desired version when installing a package. Here is the template: `conda install package_name=version_number`\n",
    "\n",
    "For example, if you need to install the package **numpy** version **1.10**, then you must type the following command in the terminal: \n",
    "\n",
    "`conda install numpy=1.10`\n",
    "$$~$$\n",
    "How would you install the version `1.0.2` of a package named `pkg`?\n",
    "$$~$$\n",
    "$$~$$"
   ]
  },
  {
   "cell_type": "markdown",
   "metadata": {},
   "source": [
    "Here is a list of other useful commands for Anaconda package management:\n",
    "* Uninstalling a package: `conda remove package_name`\n",
    "    * E.g `conda remove numpy`\n",
    "* Update a package: `conda update package_name`\n",
    "    * E.g `conda update numpy`\n",
    "* Update all packages: `conda update-all`\n",
    "* Check the list installed packages: `conda list`\n",
    "* Search for a package: `conda search search_term`\n",
    "    * E.g `conda search num`"
   ]
  },
  {
   "cell_type": "markdown",
   "metadata": {},
   "source": [
    "## Create Virtual Environments"
   ]
  },
  {
   "cell_type": "markdown",
   "metadata": {},
   "source": [
    "Creating virtual environments in Anaconda is fairly simple. You can use the following template to create a virtual environment: \n",
    "\n",
    "`conda create -n env_name list_of_packages`"
   ]
  },
  {
   "cell_type": "markdown",
   "metadata": {},
   "source": [
    "Note the following points about creating environments:\n",
    "1. It is a good practice to choose a descriptive name for your environment that would help you know which environment to use in the future. For example, if you intend you use an environment for Python version 3.3, you can name it as _python33_.\n",
    "2. The list of packages is not necessary when creating an environment. You can install your packages after creating the environment."
   ]
  },
  {
   "cell_type": "markdown",
   "metadata": {},
   "source": [
    "Here are some examples of creating environments:\n",
    "* Create an environment that comes with _numpy_ installed: `conda create -n my_env numpy`\n",
    "* Create and environment that comes with Python version 3.3: `conda create -n my_env python=3.3`"
   ]
  },
  {
   "cell_type": "markdown",
   "metadata": {},
   "source": [
    "**_NOTE: Use unique names when creating environments. Replace the example environment names above with names of your preference but follow the suggested tips on naming schemes._**"
   ]
  },
  {
   "cell_type": "markdown",
   "metadata": {},
   "source": [
    "## Using Virtual Environments"
   ]
  },
  {
   "cell_type": "markdown",
   "metadata": {},
   "source": [
    "After creating an environment, you are ready to use it. You only need one step to start using your virtual environment. Use the following template to activate your virtual environment: `conda activate env_name`."
   ]
  },
  {
   "cell_type": "markdown",
   "metadata": {},
   "source": [
    "If you would like to deactivate an environment, just use the following template: `conda deactivate`."
   ]
  },
  {
   "cell_type": "markdown",
   "metadata": {},
   "source": [
    "If you do not remember your environment name, you can use the following command to see the list virtual environments: `conda env list`"
   ]
  },
  {
   "cell_type": "markdown",
   "metadata": {},
   "source": [
    "How many virtual environments have you created as part of this lab? List them down.\n",
    "$$~$$\n",
    "$$~$$"
   ]
  },
  {
   "cell_type": "markdown",
   "metadata": {},
   "source": [
    "## Other Resources"
   ]
  },
  {
   "cell_type": "markdown",
   "metadata": {},
   "source": [
    "* Read more on [Installing Anaconda](https://conda.io/projects/conda/en/latest/user-guide/install/index.html).\n",
    "* Read more on [Managing Environments](https://conda.io/projects/conda/en/latest/user-guide/tasks/manage-environments.html).\n",
    "* Read more on [Managing Packages](https://conda.io/projects/conda/en/latest/user-guide/tasks/manage-pkgs.html).\n",
    "* Read more on [Anaconda Cheat sheet](https://conda.io/projects/conda/en/latest/user-guide/cheatsheet.html)."
   ]
  },
  {
   "cell_type": "markdown",
   "metadata": {},
   "source": [
    "# Jupyter Notebook"
   ]
  },
  {
   "cell_type": "markdown",
   "metadata": {},
   "source": [
    "Jupyter notebook is a web application that allows you to combine explanatory text, math equations, code, and visualizations all in one document. It has been commonly used for data cleaning and transformation, numerical simulation, statistical modeling, data visualization, machine learning."
   ]
  },
  {
   "cell_type": "markdown",
   "metadata": {},
   "source": [
    "In this section, you will learn how to:\n",
    "\n",
    "* install Jupyter notebook using Linux CLI (Command Line Interface).\n",
    "\n",
    "* create and launch notebooks\n",
    "\n",
    "* export, save, and shutdown a notebook\n",
    "\n",
    "* navigate around the Jupyter notebook interface"
   ]
  },
  {
   "cell_type": "markdown",
   "metadata": {},
   "source": [
    "## Installation"
   ]
  },
  {
   "cell_type": "markdown",
   "metadata": {},
   "source": [
    "Jupyter notebook comes directly with Anaconda installation. However, should you needed to\n",
    "install it just type the following in a terminal: \n",
    "\n",
    "`conda install jupyter notebook`"
   ]
  },
  {
   "cell_type": "markdown",
   "metadata": {},
   "source": [
    "### Alternative Installer"
   ]
  },
  {
   "cell_type": "markdown",
   "metadata": {},
   "source": [
    "You could also use the `pip` installer. It is a package management system used to install and manage\n",
    "software packages written in Python. To use `pip` type the following in a terminal:\n",
    "\n",
    "`pip install jupyter notebook`\n",
    "\n",
    "![](install.png)"
   ]
  },
  {
   "cell_type": "markdown",
   "metadata": {},
   "source": [
    "## Launch Jupyter Notebook"
   ]
  },
  {
   "cell_type": "markdown",
   "metadata": {},
   "source": [
    "Launching a Jupyter notebook is fairly easy. You just need to type the following in a terminal:\n",
    "\n",
    "`jupyter notebook`\n",
    "\n",
    "![](run.png)\n",
    "\n",
    "<br>\n",
    "\n",
    "This will start the Jupyter server in the directory you ran the command in. That means any notebook\n",
    "files will be saved in that directory. Once the server has started, a browser will be opened to show\n",
    "the Jupyter server at its default address which is http://localhost:8888.\n",
    "\n",
    "![](notebook.png)\n",
    "\n",
    "<br>\n",
    "\n",
    "If you would like to start a saved notebook directly, then you just need to use the following template:\n",
    "\n",
    "`jupyter notebook my_notebook.ipynb`\n",
    "\n",
    "Do note that _ipynb_ is the file extension for Jupyter notebooks.\n",
    "\n",
    "The tabs at the top show Files, Running, and Cluster. **Files** shows all the files and folders in the\n",
    "current directory. Clicking on the **Running** tab will list all the currently running notebooks. From\n",
    "there you can manage them. **Clusters** previously was where you could create multiple kernels for use in parallel computing. This has been taken over by **ipyparallel** in the recent releases, so there is not much to do there anymore."
   ]
  },
  {
   "cell_type": "markdown",
   "metadata": {},
   "source": [
    "## Create A New Notebook"
   ]
  },
  {
   "cell_type": "markdown",
   "metadata": {},
   "source": [
    "Over on the right, you can click on **New** to create a new notebook, text file, folder, or terminal. The\n",
    "list under **Notebook** shows the kernels you have installed. Since my environment has Python 3 installed, you can see that Python 3 kernel is available.\n",
    "\n",
    "![](new.png)\n",
    "\n",
    "In order to creat a new Notebook, click on your preferred kernel. A new page will open a notebook where you can start using it.\n",
    "\n",
    "![](newnotebook.png)\n",
    "\n",
    "You can rename your notebook by clicking the _Untitled_ on the top bar.\n",
    "\n",
    "![](rename.png)"
   ]
  },
  {
   "cell_type": "markdown",
   "metadata": {},
   "source": [
    "### Save the notebook"
   ]
  },
  {
   "cell_type": "markdown",
   "metadata": {},
   "source": [
    "While the notebook has automatic save functionality, but you could also manually save it by pressing\n",
    "on the save button as depicted below.\n",
    "\n",
    "![](save.png)"
   ]
  },
  {
   "cell_type": "markdown",
   "metadata": {},
   "source": [
    "### Export the notebook"
   ]
  },
  {
   "cell_type": "markdown",
   "metadata": {},
   "source": [
    "In the _File_ menu, select _Download as_ where you can download the notebook in multiple formats. You can choose the format based on what you intend to use it for.\n",
    "\n",
    "![](export.png)"
   ]
  },
  {
   "cell_type": "markdown",
   "metadata": {},
   "source": [
    "### Shutdown the notebook"
   ]
  },
  {
   "cell_type": "markdown",
   "metadata": {},
   "source": [
    "You can shutdown the notebook by going to the _Kernel_ menu and clicking on _Shutdown_. Make sure to save your work before you do this!\n",
    "\n",
    "![](shutdown.png)\n",
    "\n",
    "You can also shutdown the entire server by pressing `Ctrl + c` in the terminal where you started your Jupyter notebook server."
   ]
  },
  {
   "cell_type": "markdown",
   "metadata": {},
   "source": [
    "## Jupyter Notebook Interface"
   ]
  },
  {
   "cell_type": "markdown",
   "metadata": {},
   "source": [
    "You can see a box as shown in the image below. This is called a **cell**. \n",
    "\n",
    "![](cell.png)\n",
    "\n",
    "Cells are where you write and run your code or text. You can change the cell type from _Code_ to _Markdown_ and vice versa. **Markdown** is a popular formatting syntax for writing web content which can also be used to write a report. In the toolbar, click _Code_ to change it to _Markdown_ and back. \n",
    "\n",
    "![](celltype.png)\n",
    "\n",
    "The little play button (indicated as **Run**) runs the cell, and the up and down arrows move cells up\n",
    "and down. When you run a code cell, the output is displayed below the cell. The cell also gets numbered, you\n",
    "see **In [1]:** on the left. This lets you know the code was run and the order if you run multiple cells. Running the cell in Markdown mode renders the Markdown as text."
   ]
  },
  {
   "cell_type": "markdown",
   "metadata": {},
   "source": [
    "### The Toolbar"
   ]
  },
  {
   "cell_type": "markdown",
   "metadata": {},
   "source": [
    "Below briefly describes the toolbar buttons starting from left:\n",
    "\n",
    "* The **floppy disk symbol** saves the notebook.\n",
    "\n",
    "* The **+** button creates a new cell.\n",
    "\n",
    "* The next three buttons are to **cut**, **copy**, and **paste** cells.\n",
    "\n",
    "* The **up** and **down** arrows move cells up or down.\n",
    "\n",
    "* The next four buttons are to **run**, **stop**, **restart** the kernel, and restart & re-run the entire notebook.\n",
    "\n",
    "* The **dropdown box** is to choose the Cell type (eg. Code or Markdown).\n",
    "\n",
    "* The **keyboard symbol** is the Command palette. This will bring up a panel with a search bar where you can search for various commands. This is really helpful for speeding up your workflow. Just open the command palette and type in what you want to do."
   ]
  },
  {
   "cell_type": "markdown",
   "metadata": {},
   "source": [
    "## Recommended Resources"
   ]
  },
  {
   "cell_type": "markdown",
   "metadata": {},
   "source": [
    "* [Jupyter notebook documentation](https://jupyter-notebook.readthedocs.io/en/stable/).\n",
    "* [Markdown syntax](https://guides.github.com/features/mastering-markdown/)."
   ]
  },
  {
   "cell_type": "markdown",
   "metadata": {},
   "source": [
    "_**NOTE: If any of the above links are broken, just keep calm and inform your lecturer and ask Google for the correct link!**_"
   ]
  }
 ],
 "metadata": {
  "CodeCell": {
   "cm_config": {
    "lineWrapping": true
   }
  },
  "MarkdownCell": {
   "cm_config": {
    "lineWrapping": true
   }
  },
  "kernelspec": {
   "display_name": "Python 3",
   "language": "python",
   "name": "python3"
  },
  "language_info": {
   "codemirror_mode": {
    "name": "ipython",
    "version": 3
   },
   "file_extension": ".py",
   "mimetype": "text/x-python",
   "name": "python",
   "nbconvert_exporter": "python",
   "pygments_lexer": "ipython3",
   "version": "3.7.3"
  },
  "latex_metadata": {
   "affiliation": "Stanford University",
   "author": "M H Goerz",
   "bib": "notebook.bib",
   "date": "",
   "title": "An example notebook"
  }
 },
 "nbformat": 4,
 "nbformat_minor": 2
}
